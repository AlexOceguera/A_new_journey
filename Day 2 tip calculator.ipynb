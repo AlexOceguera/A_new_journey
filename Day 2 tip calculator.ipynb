{
 "cells": [
  {
   "cell_type": "code",
   "execution_count": 1,
   "id": "8c467c9c",
   "metadata": {},
   "outputs": [
    {
     "name": "stdout",
     "output_type": "stream",
     "text": [
      "Enter the bill amount: $150\n",
      "Enter the tip percentage: 12\n",
      "Enter the number of people: 8\n",
      "Total bill amount: $168.00\n",
      "Tip amount: $18.00\n",
      "Amount per person: $21.00\n"
     ]
    }
   ],
   "source": [
    "# Input the bill amount\n",
    "bill_amount = float(input(\"Enter the bill amount: $\"))\n",
    "\n",
    "# Input the tip percentage\n",
    "tip_percentage = float(input(\"Enter the tip percentage: \"))\n",
    "\n",
    "# Input the number of people to split the bill\n",
    "num_people = int(input(\"Enter the number of people: \"))\n",
    "\n",
    "# Calculate the tip amount\n",
    "tip_amount = bill_amount * (tip_percentage / 100)\n",
    "\n",
    "# Calculate the total bill amount\n",
    "total_amount = bill_amount + tip_amount\n",
    "\n",
    "# Calculate the amount to be paid per person\n",
    "amount_per_person = total_amount / num_people\n",
    "\n",
    "# Display the results\n",
    "print(f\"Total bill amount: ${total_amount:.2f}\")\n",
    "print(f\"Tip amount: ${tip_amount:.2f}\")\n",
    "print(f\"Amount per person: ${amount_per_person:.2f}\")\n"
   ]
  }
 ],
 "metadata": {
  "kernelspec": {
   "display_name": "Python 3 (ipykernel)",
   "language": "python",
   "name": "python3"
  },
  "language_info": {
   "codemirror_mode": {
    "name": "ipython",
    "version": 3
   },
   "file_extension": ".py",
   "mimetype": "text/x-python",
   "name": "python",
   "nbconvert_exporter": "python",
   "pygments_lexer": "ipython3",
   "version": "3.9.7"
  }
 },
 "nbformat": 4,
 "nbformat_minor": 5
}
